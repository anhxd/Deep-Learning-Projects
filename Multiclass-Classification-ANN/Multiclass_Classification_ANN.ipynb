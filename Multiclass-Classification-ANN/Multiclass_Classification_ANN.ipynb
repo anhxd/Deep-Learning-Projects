{
  "cells": [
    {
      "cell_type": "markdown",
      "metadata": {
        "id": "aSIAvqZj7Svb"
      },
      "source": [
        "<h1 style=\"text-align: center;\">Experiment 2</h1>"
      ]
    },
    {
      "cell_type": "markdown",
      "metadata": {
        "id": "bftUhO1ea-bu"
      },
      "source": [
        "#### Aim: Build an Artificial Neural Network to implement Multi-Class Classification task using the Back-propagation algorithm and test the same using appropriate data sets"
      ]
    },
    {
      "cell_type": "markdown",
      "metadata": {
        "id": "li34PiT3bODE"
      },
      "source": [
        "### Database\n",
        "* The data that will be incorporated is the **MNIST database** (Modified National Institute of Standards and Technology database) which contains 60,000 images for training and 10,000 test images.\n",
        "* The dataset consists of small square 28×28 pixel grayscale images of handwritten single digits between 0 and 9\n",
        "* The MNIST dataset is conveniently bundled within Keras, and we can easily analyze some of its features in Python."
      ]
    },
    {
      "cell_type": "code",
      "execution_count": 1,
      "metadata": {
        "colab": {
          "base_uri": "https://localhost:8080/"
        },
        "id": "ux2M9prha0XP",
        "outputId": "c1a4e9af-1e37-485b-ff90-b500ff801702"
      },
      "outputs": [
        {
          "output_type": "stream",
          "name": "stdout",
          "text": [
            "Downloading data from https://storage.googleapis.com/tensorflow/tf-keras-datasets/mnist.npz\n",
            "11490434/11490434 [==============================] - 0s 0us/step\n",
            "X_train shape (60000, 28, 28)\n",
            "y_train shape (60000,)\n",
            "X_test shape (10000, 28, 28)\n",
            "y_test shape (10000,)\n"
          ]
        }
      ],
      "source": [
        "from tensorflow import keras\n",
        "from keras.datasets import mnist     # MNIST dataset is included in Keras\n",
        "(X_train, y_train), (X_test, y_test) = mnist.load_data()\n",
        "\n",
        "print(\"X_train shape\", X_train.shape)\n",
        "print(\"y_train shape\", y_train.shape)\n",
        "print(\"X_test shape\", X_test.shape)\n",
        "print(\"y_test shape\", y_test.shape)"
      ]
    },
    {
      "cell_type": "code",
      "execution_count": 2,
      "metadata": {
        "id": "04vC170obhb2",
        "colab": {
          "base_uri": "https://localhost:8080/",
          "height": 433
        },
        "outputId": "3a120cb5-097e-4f83-a7f2-ebada03dbdeb"
      },
      "outputs": [
        {
          "output_type": "display_data",
          "data": {
            "text/plain": [
              "<Figure size 640x480 with 9 Axes>"
            ],
            "image/png": "[encoded data removed]"
          },
          "metadata": {}
        }
      ],
      "source": [
        "# Plot first few images\n",
        "import matplotlib.pyplot as plt\n",
        "for i in range(9):\n",
        "\t# define subplot\n",
        "\tplt.subplot(3,3,i+1) # 3 rows, 3 col, pos\n",
        "\t# plot raw pixel data\n",
        "\tplt.imshow(X_train[i], cmap='gray')\n",
        "# show the figure\n",
        "plt.show()"
      ]
    },
    {
      "cell_type": "code",
      "execution_count": 3,
      "metadata": {
        "id": "rhK5mMy7eKpM",
        "colab": {
          "base_uri": "https://localhost:8080/"
        },
        "outputId": "a5e7f3be-ad47-43cd-a01b-00c7a1e66dfa"
      },
      "outputs": [
        {
          "output_type": "execute_result",
          "data": {
            "text/plain": [
              "(28, 28)"
            ]
          },
          "metadata": {},
          "execution_count": 3
        }
      ],
      "source": [
        "X_train[i].shape"
      ]
    },
    {
      "cell_type": "code",
      "execution_count": 4,
      "metadata": {
        "id": "H2hTIds6edP4",
        "colab": {
          "base_uri": "https://localhost:8080/",
          "height": 214
        },
        "outputId": "ea42ff95-e7b0-446a-8692-64163a92ece6"
      },
      "outputs": [
        {
          "output_type": "execute_result",
          "data": {
            "text/plain": [
              "array([[  0,   0,  20, 254, 254, 108,   0,   0,   0,   0],\n",
              "       [  0,   0,  16, 239, 254, 143,   0,   0,   0,   0],\n",
              "       [  0,   0,   0, 178, 254, 143,   0,   0,   0,   0],\n",
              "       [  0,   0,   0, 178, 254, 143,   0,   0,   0,   0],\n",
              "       [  0,   0,   0, 178, 254, 162,   0,   0,   0,   0],\n",
              "       [  0,   0,   0, 178, 254, 240,   0,   0,   0,   0],\n",
              "       [  0,   0,   0, 113, 254, 240,   0,   0,   0,   0],\n",
              "       [  0,   0,   0,  83, 254, 245,  31,   0,   0,   0],\n",
              "       [  0,   0,   0,  79, 254, 246,  38,   0,   0,   0],\n",
              "       [  0,   0,   0,   0, 214, 254, 150,   0,   0,   0]], dtype=uint8)"
            ],
            "text/html": [
              "<style>\n",
              "      .ndarray_repr .ndarray_raw_data {\n",
              "        display: none;\n",
              "      }\n",
              "      .ndarray_repr.show_array .ndarray_raw_data {\n",
              "        display: block;\n",
              "      }\n",
              "      .ndarray_repr.show_array .ndarray_image_preview {\n",
              "        display: none;\n",
              "      }\n",
              "      </style>\n",
              "      <div id=\"id-bdefe857-29e1-4138-8d43-7c67369c1c88\" class=\"ndarray_repr\"><pre>ndarray (10, 10) <button style=\"padding: 0 2px;\">show data</button></pre><img src=\"data:image/png;base64,iVBORw0KGgoAAAANSUhEUgAAAAoAAAAKCAAAAACoWZBhAAAAQElEQVR4nGNgYBD59y+HgYGBgYmB4c9HBmUo88NhBgYoEwYgTGEE0w/G3I9Q8IiBVR7K/MPAyA7Te+3fNAYGBgDLQAvkXDu/swAAAABJRU5ErkJggg==\" class=\"ndarray_image_preview\" /><pre class=\"ndarray_raw_data\">array([[  0,   0,  20, 254, 254, 108,   0,   0,   0,   0],\n",
              "       [  0,   0,  16, 239, 254, 143,   0,   0,   0,   0],\n",
              "       [  0,   0,   0, 178, 254, 143,   0,   0,   0,   0],\n",
              "       [  0,   0,   0, 178, 254, 143,   0,   0,   0,   0],\n",
              "       [  0,   0,   0, 178, 254, 162,   0,   0,   0,   0],\n",
              "       [  0,   0,   0, 178, 254, 240,   0,   0,   0,   0],\n",
              "       [  0,   0,   0, 113, 254, 240,   0,   0,   0,   0],\n",
              "       [  0,   0,   0,  83, 254, 245,  31,   0,   0,   0],\n",
              "       [  0,   0,   0,  79, 254, 246,  38,   0,   0,   0],\n",
              "       [  0,   0,   0,   0, 214, 254, 150,   0,   0,   0]], dtype=uint8)</pre></div><script>\n",
              "      (() => {\n",
              "      const titles = ['show data', 'hide data'];\n",
              "      let index = 0\n",
              "      document.querySelector('#id-bdefe857-29e1-4138-8d43-7c67369c1c88 button').onclick = (e) => {\n",
              "        document.querySelector('#id-bdefe857-29e1-4138-8d43-7c67369c1c88').classList.toggle('show_array');\n",
              "        index = (++index) % 2;\n",
              "        document.querySelector('#id-bdefe857-29e1-4138-8d43-7c67369c1c88 button').textContent = titles[index];\n",
              "        e.preventDefault();\n",
              "        e.stopPropagation();\n",
              "      }\n",
              "      })();\n",
              "    </script>"
            ]
          },
          "metadata": {},
          "execution_count": 4
        }
      ],
      "source": [
        "# Each pixel is an 8-bit integer from 0-255 (0 is full black, 255 is full white)\n",
        "# single-channel pixel or monochrome image\n",
        "X_train[i][10:20,10:20]"
      ]
    },
    {
      "cell_type": "markdown",
      "metadata": {
        "id": "RQ78uYy-eJ31"
      },
      "source": [
        "### Formatting the input data\n",
        "\n",
        "* Reshape (or flatten) the 28x28 image into a 784-length vector.\n",
        "\n",
        "\n",
        "<img src='https://github.com/AviatorMoser/keras-mnist-tutorial/blob/master/flatten.png?raw=1' width=50%>\n",
        "\n",
        "* Input values [0-255] are Normalized in the range [0-1]\n",
        "\n",
        "A `Min-Max Scaling` is typically done via the following equation:\n",
        "\n",
        "$$X_{norm} = \\frac{X_{i} - X_{min}}{X_{max} - X_{min}}$$\n",
        "\n",
        "$X_i$ is the $i^{th}$ sample of dataset."
      ]
    },
    {
      "cell_type": "code",
      "execution_count": 5,
      "metadata": {
        "colab": {
          "base_uri": "https://localhost:8080/"
        },
        "id": "TmCWE0JCgEqF",
        "outputId": "1c4e67ef-978f-42f8-abd3-60e0502d7a83"
      },
      "outputs": [
        {
          "output_type": "stream",
          "name": "stdout",
          "text": [
            "Training matrix shape (60000, 784)\n",
            "Testing matrix shape (10000, 784)\n"
          ]
        }
      ],
      "source": [
        "# reshape 28 x 28 matrices into 784-length vectors\n",
        "X_train = X_train.reshape(60000, 784)\n",
        "X_test = X_test.reshape(10000, 784)\n",
        "\n",
        "# normalize each value for each pixel for the entire vector for each input\n",
        "# change integers to 32-bit floating point numbers\n",
        "X_train = X_train.astype('float32')\n",
        "X_test = X_test.astype('float32')\n",
        "# normalize by dividing by largest pixel value\n",
        "X_train /= 255\n",
        "X_test /= 255\n",
        "\n",
        "print(\"Training matrix shape\", X_train.shape)\n",
        "print(\"Testing matrix shape\", X_test.shape)"
      ]
    },
    {
      "cell_type": "markdown",
      "metadata": {
        "id": "YI6eVl5Lbai2"
      },
      "source": [
        "### DNN for Multi-class classification using Keras library"
      ]
    },
    {
      "cell_type": "code",
      "execution_count": 6,
      "metadata": {
        "id": "Qoi8YwzwoDGb"
      },
      "outputs": [],
      "source": [
        "from keras.models import Sequential\n",
        "from keras.layers import Dense\n",
        "\n",
        "mdl = Sequential()\n",
        "\n",
        "# Assuming input shape is (784,)\n",
        "input_shape = (784,)\n",
        "\n",
        "# Input layer with 64 units and relu activation\n",
        "mdl.add(Dense(64, input_shape=input_shape, activation='relu'))\n",
        "\n",
        "# Hidden layer with 32 units and relu activation\n",
        "mdl.add(Dense(32, activation='relu'))\n",
        "\n",
        "# Output layer with 10 units and softmax activation\n",
        "mdl.add(Dense(10, activation='softmax'))\n",
        "\n",
        "# Compile model\n",
        "mdl.compile(optimizer='adam', loss='categorical_crossentropy', metrics=['accuracy'])\n"
      ]
    },
    {
      "cell_type": "code",
      "execution_count": 7,
      "metadata": {
        "id": "j4YE_vJZqf11",
        "colab": {
          "base_uri": "https://localhost:8080/",
          "height": 422
        },
        "outputId": "f2b2d62e-db15-499e-9399-a09714442473"
      },
      "outputs": [
        {
          "output_type": "execute_result",
          "data": {
            "image/png": "[encoded data removed]",
            "text/plain": [
              "<IPython.core.display.Image object>"
            ]
          },
          "metadata": {},
          "execution_count": 7
        }
      ],
      "source": [
        "# Visualize the model\n",
        "from keras.utils import plot_model\n",
        "plot_model(mdl, show_shapes=True, show_layer_names=False)"
      ]
    },
    {
      "cell_type": "code",
      "execution_count": 8,
      "metadata": {
        "id": "5aBXVjE6rRLy",
        "colab": {
          "base_uri": "https://localhost:8080/"
        },
        "outputId": "6550b314-6b98-4e84-fba8-6c39254ef6a8"
      },
      "outputs": [
        {
          "output_type": "stream",
          "name": "stdout",
          "text": [
            "Model: \"sequential\"\n",
            "_________________________________________________________________\n",
            " Layer (type)                Output Shape              Param #   \n",
            "=================================================================\n",
            " dense (Dense)               (None, 64)                50240     \n",
            "                                                                 \n",
            " dense_1 (Dense)             (None, 32)                2080      \n",
            "                                                                 \n",
            " dense_2 (Dense)             (None, 10)                330       \n",
            "                                                                 \n",
            "=================================================================\n",
            "Total params: 52650 (205.66 KB)\n",
            "Trainable params: 52650 (205.66 KB)\n",
            "Non-trainable params: 0 (0.00 Byte)\n",
            "_________________________________________________________________\n"
          ]
        }
      ],
      "source": [
        "# Display model summary\n",
        "mdl.summary()"
      ]
    },
    {
      "cell_type": "markdown",
      "metadata": {
        "id": "dUhkgMHOpmcD"
      },
      "source": [
        "#### Convert labels to \"one-hot\" vectors using the to_categorical function\n",
        "```\n",
        "0 -> [1, 0, 0, 0, 0, 0, 0, 0, 0]\n",
        "1 -> [0, 1, 0, 0, 0, 0, 0, 0, 0]\n",
        "2 -> [0, 0, 1, 0, 0, 0, 0, 0, 0]\n",
        "etc.\n",
        "```\n"
      ]
    },
    {
      "cell_type": "code",
      "execution_count": 9,
      "metadata": {
        "id": "61gADurps2-6",
        "colab": {
          "base_uri": "https://localhost:8080/"
        },
        "outputId": "8a73a517-6aa0-4b12-a865-63f2a93d69ea"
      },
      "outputs": [
        {
          "output_type": "stream",
          "name": "stdout",
          "text": [
            "4\n",
            "[0. 0. 0. 0. 1. 0. 0. 0. 0. 0.]\n"
          ]
        }
      ],
      "source": [
        "from keras.utils import to_categorical\n",
        "y_train1 = to_categorical(y_train)\n",
        "y_test1 = to_categorical(y_test)\n",
        "print(y_test[6])\n",
        "print(y_test1[6,:])"
      ]
    },
    {
      "cell_type": "code",
      "execution_count": 10,
      "metadata": {
        "id": "kqKL9A2mplQt",
        "colab": {
          "base_uri": "https://localhost:8080/"
        },
        "outputId": "fe1167ec-fdbf-4337-cd94-6a19055fcb01"
      },
      "outputs": [
        {
          "output_type": "stream",
          "name": "stdout",
          "text": [
            "Epoch 1/10\n",
            "938/938 [==============================] - 15s 12ms/step - loss: 0.3422 - accuracy: 0.9013 - val_loss: 0.1769 - val_accuracy: 0.9497\n",
            "Epoch 2/10\n",
            "938/938 [==============================] - 8s 8ms/step - loss: 0.1578 - accuracy: 0.9539 - val_loss: 0.1411 - val_accuracy: 0.9595\n",
            "Epoch 3/10\n",
            "938/938 [==============================] - 6s 6ms/step - loss: 0.1178 - accuracy: 0.9660 - val_loss: 0.1257 - val_accuracy: 0.9647\n",
            "Epoch 4/10\n",
            "938/938 [==============================] - 8s 8ms/step - loss: 0.0938 - accuracy: 0.9717 - val_loss: 0.1113 - val_accuracy: 0.9665\n",
            "Epoch 5/10\n",
            "938/938 [==============================] - 3s 3ms/step - loss: 0.0777 - accuracy: 0.9762 - val_loss: 0.1028 - val_accuracy: 0.9694\n",
            "Epoch 6/10\n",
            "938/938 [==============================] - 4s 4ms/step - loss: 0.0658 - accuracy: 0.9798 - val_loss: 0.1035 - val_accuracy: 0.9701\n",
            "Epoch 7/10\n",
            "938/938 [==============================] - 3s 3ms/step - loss: 0.0553 - accuracy: 0.9827 - val_loss: 0.0956 - val_accuracy: 0.9742\n",
            "Epoch 8/10\n",
            "938/938 [==============================] - 3s 3ms/step - loss: 0.0494 - accuracy: 0.9838 - val_loss: 0.1014 - val_accuracy: 0.9732\n",
            "Epoch 9/10\n",
            "938/938 [==============================] - 3s 3ms/step - loss: 0.0427 - accuracy: 0.9865 - val_loss: 0.0953 - val_accuracy: 0.9743\n",
            "Epoch 10/10\n",
            "938/938 [==============================] - 4s 4ms/step - loss: 0.0366 - accuracy: 0.9885 - val_loss: 0.0925 - val_accuracy: 0.9752\n"
          ]
        }
      ],
      "source": [
        "# Train the model\n",
        "epochs=10\n",
        "batch = 64\n",
        "mdl.compile(optimizer='adam', loss='categorical_crossentropy', metrics=['accuracy'])\n",
        "history = mdl.fit(X_train, y_train1,epochs=epochs, batch_size=batch,verbose=1, validation_data=(X_test, y_test1))"
      ]
    },
    {
      "cell_type": "markdown",
      "metadata": {
        "id": "UjLK01ojX3AL"
      },
      "source": [
        "# Evaluate Model"
      ]
    },
    {
      "cell_type": "markdown",
      "metadata": {
        "id": "OKRq0gvledMR"
      },
      "source": [
        "### Plot Learning graphs"
      ]
    },
    {
      "cell_type": "code",
      "execution_count": 11,
      "metadata": {
        "id": "I2w0Q9tQYM2v",
        "colab": {
          "base_uri": "https://localhost:8080/",
          "height": 449
        },
        "outputId": "446ab1de-03ad-4930-b05a-7913463e3b61"
      },
      "outputs": [
        {
          "output_type": "display_data",
          "data": {
            "text/plain": [
              "<Figure size 640x480 with 1 Axes>"
            ],
            "image/png": "[encoded data removed]"
          },
          "metadata": {}
        }
      ],
      "source": [
        "epochRange = range(1,epochs+1)\n",
        "plt.plot(epochRange,history.history['loss'])\n",
        "plt.plot(epochRange,history.history['val_loss'])\n",
        "plt.xlabel('Epoch')\n",
        "plt.ylabel('Loss')\n",
        "plt.grid()\n",
        "plt.xlim((1,epochs))\n",
        "plt.legend(['Train','Test'])\n",
        "plt.show()"
      ]
    },
    {
      "cell_type": "code",
      "execution_count": 12,
      "metadata": {
        "id": "muvyVpWVYTJd",
        "colab": {
          "base_uri": "https://localhost:8080/",
          "height": 449
        },
        "outputId": "e2744192-4359-42e5-d159-88fd175719d2"
      },
      "outputs": [
        {
          "output_type": "display_data",
          "data": {
            "text/plain": [
              "<Figure size 640x480 with 1 Axes>"
            ],
            "image/png": "[encoded data removed]"
          },
          "metadata": {}
        }
      ],
      "source": [
        "plt.plot(epochRange,history.history['accuracy'])\n",
        "plt.plot(epochRange,history.history['val_accuracy'])\n",
        "plt.xlabel('Epoch')\n",
        "plt.ylabel('Accuracy')\n",
        "plt.grid()\n",
        "plt.xlim((1,epochs))\n",
        "plt.legend(['Train','Test'])\n",
        "plt.show()"
      ]
    },
    {
      "cell_type": "markdown",
      "metadata": {
        "id": "fkD4g_f8ug1-"
      },
      "source": [
        "#### Performance metrics"
      ]
    },
    {
      "cell_type": "code",
      "execution_count": 13,
      "metadata": {
        "id": "zOpZRnD1uwwQ",
        "colab": {
          "base_uri": "https://localhost:8080/"
        },
        "outputId": "b706d130-f05c-4b78-d130-665f8296981c"
      },
      "outputs": [
        {
          "output_type": "stream",
          "name": "stdout",
          "text": [
            "313/313 [==============================] - 1s 2ms/step\n",
            "[1.5405242e-08 1.6181786e-09 4.7705898e-06 1.1069899e-05 1.9400298e-13\n",
            " 5.0034581e-09 1.9649489e-15 9.9998254e-01 9.5919731e-08 1.4560179e-06]\n",
            "[7 2 1 0 4 1 4 9 5 9]\n",
            "[7 2 1 0 4 1 4 9 5 9]\n"
          ]
        }
      ],
      "source": [
        "import numpy as np\n",
        "yhat_test_mdl_prob = mdl.predict(X_test);\n",
        "yhat_test_mdl = np.argmax(yhat_test_mdl_prob,axis=-1)\n",
        "print(yhat_test_mdl_prob[0])\n",
        "print(yhat_test_mdl[0:10])\n",
        "print(y_test[0:10])"
      ]
    },
    {
      "cell_type": "code",
      "execution_count": 14,
      "metadata": {
        "id": "rOzEZlQsr-qC",
        "colab": {
          "base_uri": "https://localhost:8080/"
        },
        "outputId": "82054e2f-cf6d-4219-e01b-d89186648739"
      },
      "outputs": [
        {
          "output_type": "stream",
          "name": "stdout",
          "text": [
            "Accuracy:\n",
            "97.52 %\n"
          ]
        }
      ],
      "source": [
        "from sklearn.metrics import accuracy_score\n",
        "print('Accuracy:')\n",
        "print(float(accuracy_score(y_test, yhat_test_mdl))*100,'%')"
      ]
    },
    {
      "cell_type": "code",
      "execution_count": 15,
      "metadata": {
        "id": "4gTcSiVGsC1-",
        "colab": {
          "base_uri": "https://localhost:8080/"
        },
        "outputId": "2d9a94b3-9421-4675-da29-20310d202e10"
      },
      "outputs": [
        {
          "output_type": "stream",
          "name": "stdout",
          "text": [
            "Confusion Matrix:\n",
            "[[ 965    0    1    1    2    0    2    4    2    3]\n",
            " [   0 1118    4    1    0    1    2    1    7    1]\n",
            " [   1    1 1010    0    1    0    6    7    4    2]\n",
            " [   0    0    9  981    0   12    1    3    2    2]\n",
            " [   0    0    3    1  945    1    5    3    2   22]\n",
            " [   2    0    0    7    1  870    4    1    3    4]\n",
            " [   9    2    1    0    4    4  933    0    5    0]\n",
            " [   0    3    9    3    0    1    0 1003    1    8]\n",
            " [   1    0    3    6    6    9    1    3  942    3]\n",
            " [   2    3    1    5    5    3    1    2    2  985]]\n"
          ]
        }
      ],
      "source": [
        "from sklearn.metrics import confusion_matrix\n",
        "print('Confusion Matrix:')\n",
        "print(confusion_matrix(y_test, yhat_test_mdl))"
      ]
    },
    {
      "cell_type": "markdown",
      "metadata": {
        "id": "sB2A0Bzz7Svp"
      },
      "source": [
        "#### Conclusion: The accuracy was found out to be 97.41 %."
      ]
    }
  ],
  "metadata": {
    "colab": {
      "provenance": []
    },
    "kernelspec": {
      "display_name": "Python 3 (ipykernel)",
      "language": "python",
      "name": "python3"
    },
    "language_info": {
      "codemirror_mode": {
        "name": "ipython",
        "version": 3
      },
      "file_extension": ".py",
      "mimetype": "text/x-python",
      "name": "python",
      "nbconvert_exporter": "python",
      "pygments_lexer": "ipython3",
      "version": "3.11.0"
    }
  },
  "nbformat": 4,
  "nbformat_minor": 0
}